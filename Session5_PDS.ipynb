{
 "cells": [
  {
   "cell_type": "markdown",
   "metadata": {},
   "source": [
    "### Session 5"
   ]
  },
  {
   "cell_type": "markdown",
   "metadata": {},
   "source": [
    "**Introduction to Solving Regression problems** \n",
    "\n",
    "Steps to solve regression problems -\n",
    "\n",
    "1) Data Cleaning/Understanding\n",
    "\n",
    " - Data Analysis - Distribution, Range, Data Type etc.\n",
    " - Missing values - How many? What to do with them? How to Impute? etc.\n",
    " - Data Normalization/Scaling\n",
    " \n",
    "2) Understand the relationship between Independent Variables/Predictors\n",
    "\n",
    " - Are the independednt variables correlated?\n",
    " - How many variables to use in the prediction?\n",
    " - Is there any variable transformation required?\n",
    " \n",
    "3) Model building and Evaluation\n",
    "\n",
    " - Understanding model fit\n",
    " - Identify significant predictors\n",
    " - Tweak variables for a better fit\n",
    " - Model Evaluation parameters\n",
    " \n",
    "Let's understand these using the example below\n",
    " \n",
    "**Outcome of a classical Linear Regression Problem**\n",
    " \n",
    "Identify the factors that influence an outcome"
   ]
  },
  {
   "cell_type": "markdown",
   "metadata": {},
   "source": [
    "### Download Weather station data"
   ]
  },
  {
   "cell_type": "code",
   "execution_count": 39,
   "metadata": {
    "scrolled": true
   },
   "outputs": [
    {
     "name": "stderr",
     "output_type": "stream",
     "text": [
      "  % Total    % Received % Xferd  Average Speed   Time    Time     Time  Current\n",
      "                                 Dload  Upload   Total   Spent    Left  Speed\n",
      "\n",
      "  0     0    0     0    0     0      0      0 --:--:-- --:--:-- --:--:--     0\n",
      "  0     0    0     0    0     0      0      0 --:--:-- --:--:-- --:--:--     0\n",
      "  0     0    0     0    0     0      0      0 --:--:--  0:00:01 --:--:--     0\n",
      "100 64689    0 64689    0     0  32344      0 --:--:--  0:00:02 --:--:-- 28560\n",
      "100  143k    0  143k    0     0  48864      0 --:--:--  0:00:03 --:--:-- 41154\n",
      "100  223k    0  223k    0     0  57125      0 --:--:--  0:00:04 --:--:-- 53376\n",
      "100  255k    0  255k    0     0  52254      0 --:--:--  0:00:05 --:--:-- 50979\n",
      "100  287k    0  287k    0     0  49005      0 --:--:--  0:00:06 --:--:-- 59544\n",
      "100  303k    0  303k    0     0  44345      0 --:--:--  0:00:07 --:--:-- 48687\n",
      "100  335k    0  335k    0     0  42895      0 --:--:--  0:00:08 --:--:-- 40455\n",
      "100  383k    0  383k    0     0  43590      0 --:--:--  0:00:09 --:--:-- 32456\n",
      "100  415k    0  415k    0     0  42507      0 --:--:--  0:00:10 --:--:-- 33387\n",
      "100  463k    0  463k    0     0  43110      0 --:--:--  0:00:11 --:--:-- 35595\n",
      "100  479k    0  479k    0     0  40882      0 --:--:--  0:00:12 --:--:-- 35156\n",
      "100  527k    0  527k    0     0  41518      0 --:--:--  0:00:13 --:--:-- 38947\n",
      "100  559k    0  559k    0     0  40892      0 --:--:--  0:00:14 --:--:-- 36268\n",
      "100  591k    0  591k    0     0  40350      0 --:--:--  0:00:15 --:--:-- 36145\n",
      "100  639k    0  639k    0     0  40899      0 --:--:--  0:00:16 --:--:-- 36719\n",
      "100  687k    0  687k    0     0  41384      0 --:--:--  0:00:17 --:--:-- 44245\n",
      "100  735k    0  735k    0     0  41815      0 --:--:--  0:00:18 --:--:-- 44243\n",
      "100  799k    0  799k    0     0  43063      0 --:--:--  0:00:19 --:--:-- 48683\n",
      "100  847k    0  847k    0     0  43367      0 --:--:--  0:00:20 --:--:-- 48480\n",
      "100  863k    0  863k    0     0  42081      0 --:--:--  0:00:21 --:--:-- 44614\n",
      "100  895k    0  895k    0     0  41658      0 --:--:--  0:00:22 --:--:-- 42461\n",
      "100  926k    0  926k    0     0  41271      0 --:--:--  0:00:23 --:--:-- 39196\n",
      "100  974k    0  974k    0     0  41599      0 --:--:--  0:00:24 --:--:-- 36489\n",
      "100 1038k    0 1038k    0     0  42556      0 --:--:--  0:00:25 --:--:-- 41522\n",
      "100 1118k    0 1118k    0     0  44069      0 --:--:--  0:00:26 --:--:-- 53763\n",
      "100 1182k    0 1182k    0     0  44864      0 --:--:--  0:00:27 --:--:-- 58235\n",
      "100 1278k    0 1278k    0     0  46772      0 --:--:--  0:00:28 --:--:-- 70954\n",
      "100 1358k    0 1358k    0     0  47983      0 --:--:--  0:00:29 --:--:-- 73143\n",
      "100 1390k    0 1390k    0     0  47476      0 --:--:--  0:00:30 --:--:-- 74151\n",
      "100 1422k    0 1422k    0     0  47001      0 --:--:--  0:00:31 --:--:-- 61666\n",
      "100 1486k    0 1486k    0     0  47580      0 --:--:--  0:00:32 --:--:-- 62648\n",
      "100 1550k    0 1550k    0     0  48124      0 --:--:--  0:00:33 --:--:-- 56054\n",
      "100 1630k    0 1630k    0     0  49117      0 --:--:--  0:00:34 --:--:-- 60617\n",
      "100 1710k    0 1710k    0     0  50054      0 --:--:--  0:00:35 --:--:-- 65524\n",
      "100 1806k    0 1806k    0     0  51394      0 --:--:--  0:00:36 --:--:-- 78144\n",
      "100 1902k    0 1902k    0     0  52661      0 --:--:--  0:00:37 --:--:-- 83607\n",
      "100 1998k    0 1998k    0     0  53862      0 --:--:--  0:00:38 --:--:-- 89756\n",
      "100 2046k    0 2046k    0     0  55158      0 --:--:--  0:00:38 --:--:-- 91815\n",
      "  % Total    % Received % Xferd  Average Speed   Time    Time     Time  Current\n",
      "                                 Dload  Upload   Total   Spent    Left  Speed\n",
      "\n",
      "  0     0    0     0    0     0      0      0 --:--:-- --:--:-- --:--:--     0\n",
      "  0     0    0     0    0     0      0      0 --:--:-- --:--:-- --:--:--     0\n",
      "100  163k    0  163k    0     0   163k      0 --:--:-- --:--:-- --:--:--  243k\n"
     ]
    }
   ],
   "source": [
    "## Execute the curl command to download the data to the current folder\n",
    "\n",
    "!curl -o FremontBridge.csv https://data.seattle.gov/api/views/65db-xm6k/rows.csv?accessType=DOWNLOAD"
   ]
  },
  {
   "cell_type": "markdown",
   "metadata": {},
   "source": [
    "#### Load the data into workspace using python Pandas module"
   ]
  },
  {
   "cell_type": "code",
   "execution_count": 40,
   "metadata": {},
   "outputs": [],
   "source": [
    "import pandas as pd\n",
    "\n",
    "weather = pd.read_csv(\"FremontBridge.csv\", index_col='Date', parse_dates=True)\n",
    "bike = pd.read_csv(\"Bikesharing.csv\", index_col = \"DATE\", parse_dates=True)"
   ]
  },
  {
   "cell_type": "markdown",
   "metadata": {},
   "source": [
    "#### Check for the top 5 rows using dataframe_name.head()"
   ]
  },
  {
   "cell_type": "code",
   "execution_count": 41,
   "metadata": {},
   "outputs": [
    {
     "name": "stdout",
     "output_type": "stream",
     "text": [
      "Weather data\n"
     ]
    },
    {
     "data": {
      "text/html": [
       "<div>\n",
       "<style scoped>\n",
       "    .dataframe tbody tr th:only-of-type {\n",
       "        vertical-align: middle;\n",
       "    }\n",
       "\n",
       "    .dataframe tbody tr th {\n",
       "        vertical-align: top;\n",
       "    }\n",
       "\n",
       "    .dataframe thead th {\n",
       "        text-align: right;\n",
       "    }\n",
       "</style>\n",
       "<table border=\"1\" class=\"dataframe\">\n",
       "  <thead>\n",
       "    <tr style=\"text-align: right;\">\n",
       "      <th></th>\n",
       "      <th>Fremont Bridge Total</th>\n",
       "      <th>Fremont Bridge East Sidewalk</th>\n",
       "      <th>Fremont Bridge West Sidewalk</th>\n",
       "    </tr>\n",
       "    <tr>\n",
       "      <th>Date</th>\n",
       "      <th></th>\n",
       "      <th></th>\n",
       "      <th></th>\n",
       "    </tr>\n",
       "  </thead>\n",
       "  <tbody>\n",
       "    <tr>\n",
       "      <th>2012-10-03 00:00:00</th>\n",
       "      <td>13.0</td>\n",
       "      <td>4.0</td>\n",
       "      <td>9.0</td>\n",
       "    </tr>\n",
       "    <tr>\n",
       "      <th>2012-10-03 01:00:00</th>\n",
       "      <td>10.0</td>\n",
       "      <td>4.0</td>\n",
       "      <td>6.0</td>\n",
       "    </tr>\n",
       "    <tr>\n",
       "      <th>2012-10-03 02:00:00</th>\n",
       "      <td>2.0</td>\n",
       "      <td>1.0</td>\n",
       "      <td>1.0</td>\n",
       "    </tr>\n",
       "    <tr>\n",
       "      <th>2012-10-03 03:00:00</th>\n",
       "      <td>5.0</td>\n",
       "      <td>2.0</td>\n",
       "      <td>3.0</td>\n",
       "    </tr>\n",
       "    <tr>\n",
       "      <th>2012-10-03 04:00:00</th>\n",
       "      <td>7.0</td>\n",
       "      <td>6.0</td>\n",
       "      <td>1.0</td>\n",
       "    </tr>\n",
       "  </tbody>\n",
       "</table>\n",
       "</div>"
      ],
      "text/plain": [
       "                     Fremont Bridge Total  Fremont Bridge East Sidewalk  \\\n",
       "Date                                                                      \n",
       "2012-10-03 00:00:00                  13.0                           4.0   \n",
       "2012-10-03 01:00:00                  10.0                           4.0   \n",
       "2012-10-03 02:00:00                   2.0                           1.0   \n",
       "2012-10-03 03:00:00                   5.0                           2.0   \n",
       "2012-10-03 04:00:00                   7.0                           6.0   \n",
       "\n",
       "                     Fremont Bridge West Sidewalk  \n",
       "Date                                               \n",
       "2012-10-03 00:00:00                           9.0  \n",
       "2012-10-03 01:00:00                           6.0  \n",
       "2012-10-03 02:00:00                           1.0  \n",
       "2012-10-03 03:00:00                           3.0  \n",
       "2012-10-03 04:00:00                           1.0  "
      ]
     },
     "metadata": {},
     "output_type": "display_data"
    },
    {
     "name": "stdout",
     "output_type": "stream",
     "text": [
      "Bikesharing data\n"
     ]
    },
    {
     "data": {
      "text/html": [
       "<div>\n",
       "<style scoped>\n",
       "    .dataframe tbody tr th:only-of-type {\n",
       "        vertical-align: middle;\n",
       "    }\n",
       "\n",
       "    .dataframe tbody tr th {\n",
       "        vertical-align: top;\n",
       "    }\n",
       "\n",
       "    .dataframe thead th {\n",
       "        text-align: right;\n",
       "    }\n",
       "</style>\n",
       "<table border=\"1\" class=\"dataframe\">\n",
       "  <thead>\n",
       "    <tr style=\"text-align: right;\">\n",
       "      <th></th>\n",
       "      <th>STATION</th>\n",
       "      <th>STATION_NAME</th>\n",
       "      <th>PRCP</th>\n",
       "      <th>SNWD</th>\n",
       "      <th>SNOW</th>\n",
       "      <th>TMAX</th>\n",
       "      <th>TMIN</th>\n",
       "      <th>AWND</th>\n",
       "      <th>WDF2</th>\n",
       "      <th>WDF5</th>\n",
       "      <th>...</th>\n",
       "      <th>WT17</th>\n",
       "      <th>WT05</th>\n",
       "      <th>WT02</th>\n",
       "      <th>WT22</th>\n",
       "      <th>WT04</th>\n",
       "      <th>WT13</th>\n",
       "      <th>WT16</th>\n",
       "      <th>WT08</th>\n",
       "      <th>WT18</th>\n",
       "      <th>WT03</th>\n",
       "    </tr>\n",
       "    <tr>\n",
       "      <th>DATE</th>\n",
       "      <th></th>\n",
       "      <th></th>\n",
       "      <th></th>\n",
       "      <th></th>\n",
       "      <th></th>\n",
       "      <th></th>\n",
       "      <th></th>\n",
       "      <th></th>\n",
       "      <th></th>\n",
       "      <th></th>\n",
       "      <th></th>\n",
       "      <th></th>\n",
       "      <th></th>\n",
       "      <th></th>\n",
       "      <th></th>\n",
       "      <th></th>\n",
       "      <th></th>\n",
       "      <th></th>\n",
       "      <th></th>\n",
       "      <th></th>\n",
       "      <th></th>\n",
       "    </tr>\n",
       "  </thead>\n",
       "  <tbody>\n",
       "    <tr>\n",
       "      <th>2012-01-01</th>\n",
       "      <td>GHCND:USW00024233</td>\n",
       "      <td>SEATTLE TACOMA INTERNATIONAL AIRPORT WA US</td>\n",
       "      <td>0</td>\n",
       "      <td>0</td>\n",
       "      <td>0</td>\n",
       "      <td>128</td>\n",
       "      <td>50</td>\n",
       "      <td>47</td>\n",
       "      <td>100</td>\n",
       "      <td>90</td>\n",
       "      <td>...</td>\n",
       "      <td>-9999</td>\n",
       "      <td>-9999</td>\n",
       "      <td>-9999</td>\n",
       "      <td>-9999</td>\n",
       "      <td>-9999</td>\n",
       "      <td>-9999</td>\n",
       "      <td>-9999</td>\n",
       "      <td>-9999</td>\n",
       "      <td>-9999</td>\n",
       "      <td>-9999</td>\n",
       "    </tr>\n",
       "    <tr>\n",
       "      <th>2012-01-02</th>\n",
       "      <td>GHCND:USW00024233</td>\n",
       "      <td>SEATTLE TACOMA INTERNATIONAL AIRPORT WA US</td>\n",
       "      <td>109</td>\n",
       "      <td>0</td>\n",
       "      <td>0</td>\n",
       "      <td>106</td>\n",
       "      <td>28</td>\n",
       "      <td>45</td>\n",
       "      <td>180</td>\n",
       "      <td>200</td>\n",
       "      <td>...</td>\n",
       "      <td>-9999</td>\n",
       "      <td>-9999</td>\n",
       "      <td>-9999</td>\n",
       "      <td>-9999</td>\n",
       "      <td>-9999</td>\n",
       "      <td>1</td>\n",
       "      <td>1</td>\n",
       "      <td>-9999</td>\n",
       "      <td>-9999</td>\n",
       "      <td>-9999</td>\n",
       "    </tr>\n",
       "    <tr>\n",
       "      <th>2012-01-03</th>\n",
       "      <td>GHCND:USW00024233</td>\n",
       "      <td>SEATTLE TACOMA INTERNATIONAL AIRPORT WA US</td>\n",
       "      <td>8</td>\n",
       "      <td>0</td>\n",
       "      <td>0</td>\n",
       "      <td>117</td>\n",
       "      <td>72</td>\n",
       "      <td>23</td>\n",
       "      <td>180</td>\n",
       "      <td>170</td>\n",
       "      <td>...</td>\n",
       "      <td>-9999</td>\n",
       "      <td>-9999</td>\n",
       "      <td>-9999</td>\n",
       "      <td>-9999</td>\n",
       "      <td>-9999</td>\n",
       "      <td>-9999</td>\n",
       "      <td>1</td>\n",
       "      <td>-9999</td>\n",
       "      <td>-9999</td>\n",
       "      <td>-9999</td>\n",
       "    </tr>\n",
       "    <tr>\n",
       "      <th>2012-01-04</th>\n",
       "      <td>GHCND:USW00024233</td>\n",
       "      <td>SEATTLE TACOMA INTERNATIONAL AIRPORT WA US</td>\n",
       "      <td>203</td>\n",
       "      <td>0</td>\n",
       "      <td>0</td>\n",
       "      <td>122</td>\n",
       "      <td>56</td>\n",
       "      <td>47</td>\n",
       "      <td>180</td>\n",
       "      <td>190</td>\n",
       "      <td>...</td>\n",
       "      <td>-9999</td>\n",
       "      <td>-9999</td>\n",
       "      <td>-9999</td>\n",
       "      <td>-9999</td>\n",
       "      <td>-9999</td>\n",
       "      <td>1</td>\n",
       "      <td>1</td>\n",
       "      <td>-9999</td>\n",
       "      <td>-9999</td>\n",
       "      <td>-9999</td>\n",
       "    </tr>\n",
       "    <tr>\n",
       "      <th>2012-01-05</th>\n",
       "      <td>GHCND:USW00024233</td>\n",
       "      <td>SEATTLE TACOMA INTERNATIONAL AIRPORT WA US</td>\n",
       "      <td>13</td>\n",
       "      <td>0</td>\n",
       "      <td>0</td>\n",
       "      <td>89</td>\n",
       "      <td>28</td>\n",
       "      <td>61</td>\n",
       "      <td>200</td>\n",
       "      <td>220</td>\n",
       "      <td>...</td>\n",
       "      <td>-9999</td>\n",
       "      <td>-9999</td>\n",
       "      <td>-9999</td>\n",
       "      <td>-9999</td>\n",
       "      <td>-9999</td>\n",
       "      <td>-9999</td>\n",
       "      <td>1</td>\n",
       "      <td>-9999</td>\n",
       "      <td>-9999</td>\n",
       "      <td>-9999</td>\n",
       "    </tr>\n",
       "  </tbody>\n",
       "</table>\n",
       "<p>5 rows × 25 columns</p>\n",
       "</div>"
      ],
      "text/plain": [
       "                      STATION                                STATION_NAME  \\\n",
       "DATE                                                                        \n",
       "2012-01-01  GHCND:USW00024233  SEATTLE TACOMA INTERNATIONAL AIRPORT WA US   \n",
       "2012-01-02  GHCND:USW00024233  SEATTLE TACOMA INTERNATIONAL AIRPORT WA US   \n",
       "2012-01-03  GHCND:USW00024233  SEATTLE TACOMA INTERNATIONAL AIRPORT WA US   \n",
       "2012-01-04  GHCND:USW00024233  SEATTLE TACOMA INTERNATIONAL AIRPORT WA US   \n",
       "2012-01-05  GHCND:USW00024233  SEATTLE TACOMA INTERNATIONAL AIRPORT WA US   \n",
       "\n",
       "            PRCP  SNWD  SNOW  TMAX  TMIN  AWND  WDF2  WDF5  ...  WT17  WT05  \\\n",
       "DATE                                                        ...               \n",
       "2012-01-01     0     0     0   128    50    47   100    90  ... -9999 -9999   \n",
       "2012-01-02   109     0     0   106    28    45   180   200  ... -9999 -9999   \n",
       "2012-01-03     8     0     0   117    72    23   180   170  ... -9999 -9999   \n",
       "2012-01-04   203     0     0   122    56    47   180   190  ... -9999 -9999   \n",
       "2012-01-05    13     0     0    89    28    61   200   220  ... -9999 -9999   \n",
       "\n",
       "            WT02  WT22  WT04  WT13  WT16  WT08  WT18  WT03  \n",
       "DATE                                                        \n",
       "2012-01-01 -9999 -9999 -9999 -9999 -9999 -9999 -9999 -9999  \n",
       "2012-01-02 -9999 -9999 -9999     1     1 -9999 -9999 -9999  \n",
       "2012-01-03 -9999 -9999 -9999 -9999     1 -9999 -9999 -9999  \n",
       "2012-01-04 -9999 -9999 -9999     1     1 -9999 -9999 -9999  \n",
       "2012-01-05 -9999 -9999 -9999 -9999     1 -9999 -9999 -9999  \n",
       "\n",
       "[5 rows x 25 columns]"
      ]
     },
     "metadata": {},
     "output_type": "display_data"
    }
   ],
   "source": [
    "print(\"Weather data\")\n",
    "display(weather.head())\n",
    "print(\"Bikesharing data\")\n",
    "display(bike.head())"
   ]
  },
  {
   "cell_type": "markdown",
   "metadata": {},
   "source": [
    "#### Compute the daily bicycle traffic"
   ]
  },
  {
   "cell_type": "code",
   "execution_count": 42,
   "metadata": {},
   "outputs": [],
   "source": [
    "daily = bike.resample('d').sum()\n",
    "daily['Total'] = daily.sum(axis=1)\n",
    "daily = daily[['Total']] # remove other columns"
   ]
  },
  {
   "cell_type": "markdown",
   "metadata": {},
   "source": [
    "#### Adding additional Dimensions to the Data\n",
    "\n",
    "Adding additional dimensions to the data like Day of the Week to see the patterns in the traffic"
   ]
  },
  {
   "cell_type": "code",
   "execution_count": 43,
   "metadata": {},
   "outputs": [],
   "source": [
    "days = ['Mon', 'Tue', 'Wed', 'Thu', 'Fri', 'Sat', 'Sun']\n",
    "for i in range(7):\n",
    "    daily[days[i]] = (daily.index.dayofweek == i).astype(float)"
   ]
  },
  {
   "cell_type": "code",
   "execution_count": 44,
   "metadata": {},
   "outputs": [
    {
     "data": {
      "text/html": [
       "<div>\n",
       "<style scoped>\n",
       "    .dataframe tbody tr th:only-of-type {\n",
       "        vertical-align: middle;\n",
       "    }\n",
       "\n",
       "    .dataframe tbody tr th {\n",
       "        vertical-align: top;\n",
       "    }\n",
       "\n",
       "    .dataframe thead th {\n",
       "        text-align: right;\n",
       "    }\n",
       "</style>\n",
       "<table border=\"1\" class=\"dataframe\">\n",
       "  <thead>\n",
       "    <tr style=\"text-align: right;\">\n",
       "      <th></th>\n",
       "      <th>Total</th>\n",
       "      <th>Mon</th>\n",
       "      <th>Tue</th>\n",
       "      <th>Wed</th>\n",
       "      <th>Thu</th>\n",
       "      <th>Fri</th>\n",
       "      <th>Sat</th>\n",
       "      <th>Sun</th>\n",
       "    </tr>\n",
       "    <tr>\n",
       "      <th>DATE</th>\n",
       "      <th></th>\n",
       "      <th></th>\n",
       "      <th></th>\n",
       "      <th></th>\n",
       "      <th></th>\n",
       "      <th></th>\n",
       "      <th></th>\n",
       "      <th></th>\n",
       "    </tr>\n",
       "  </thead>\n",
       "  <tbody>\n",
       "    <tr>\n",
       "      <th>2012-01-01</th>\n",
       "      <td>-119371</td>\n",
       "      <td>0.0</td>\n",
       "      <td>0.0</td>\n",
       "      <td>0.0</td>\n",
       "      <td>0.0</td>\n",
       "      <td>0.0</td>\n",
       "      <td>0.0</td>\n",
       "      <td>1.0</td>\n",
       "    </tr>\n",
       "    <tr>\n",
       "      <th>2012-01-02</th>\n",
       "      <td>-99010</td>\n",
       "      <td>1.0</td>\n",
       "      <td>0.0</td>\n",
       "      <td>0.0</td>\n",
       "      <td>0.0</td>\n",
       "      <td>0.0</td>\n",
       "      <td>0.0</td>\n",
       "      <td>0.0</td>\n",
       "    </tr>\n",
       "    <tr>\n",
       "      <th>2012-01-03</th>\n",
       "      <td>-119296</td>\n",
       "      <td>0.0</td>\n",
       "      <td>1.0</td>\n",
       "      <td>0.0</td>\n",
       "      <td>0.0</td>\n",
       "      <td>0.0</td>\n",
       "      <td>0.0</td>\n",
       "      <td>0.0</td>\n",
       "    </tr>\n",
       "    <tr>\n",
       "      <th>2012-01-04</th>\n",
       "      <td>-98934</td>\n",
       "      <td>0.0</td>\n",
       "      <td>0.0</td>\n",
       "      <td>1.0</td>\n",
       "      <td>0.0</td>\n",
       "      <td>0.0</td>\n",
       "      <td>0.0</td>\n",
       "      <td>0.0</td>\n",
       "    </tr>\n",
       "    <tr>\n",
       "      <th>2012-01-05</th>\n",
       "      <td>-109104</td>\n",
       "      <td>0.0</td>\n",
       "      <td>0.0</td>\n",
       "      <td>0.0</td>\n",
       "      <td>1.0</td>\n",
       "      <td>0.0</td>\n",
       "      <td>0.0</td>\n",
       "      <td>0.0</td>\n",
       "    </tr>\n",
       "  </tbody>\n",
       "</table>\n",
       "</div>"
      ],
      "text/plain": [
       "             Total  Mon  Tue  Wed  Thu  Fri  Sat  Sun\n",
       "DATE                                                 \n",
       "2012-01-01 -119371  0.0  0.0  0.0  0.0  0.0  0.0  1.0\n",
       "2012-01-02  -99010  1.0  0.0  0.0  0.0  0.0  0.0  0.0\n",
       "2012-01-03 -119296  0.0  1.0  0.0  0.0  0.0  0.0  0.0\n",
       "2012-01-04  -98934  0.0  0.0  1.0  0.0  0.0  0.0  0.0\n",
       "2012-01-05 -109104  0.0  0.0  0.0  1.0  0.0  0.0  0.0"
      ]
     },
     "execution_count": 44,
     "metadata": {},
     "output_type": "execute_result"
    }
   ],
   "source": [
    "daily.head()"
   ]
  },
  {
   "cell_type": "markdown",
   "metadata": {},
   "source": [
    "#### Adding US Holiday data to observe the bike rider patterns on holidays"
   ]
  },
  {
   "cell_type": "code",
   "execution_count": 45,
   "metadata": {},
   "outputs": [],
   "source": [
    "from pandas.tseries.holiday import USFederalHolidayCalendar\n",
    "cal = USFederalHolidayCalendar()\n",
    "holidays = cal.holidays('2012', '2016')\n",
    "daily = daily.join(pd.Series(1, index=holidays, name='holiday'))\n",
    "daily['holiday'].fillna(0, inplace=True)"
   ]
  },
  {
   "cell_type": "code",
   "execution_count": 46,
   "metadata": {},
   "outputs": [
    {
     "data": {
      "text/html": [
       "<div>\n",
       "<style scoped>\n",
       "    .dataframe tbody tr th:only-of-type {\n",
       "        vertical-align: middle;\n",
       "    }\n",
       "\n",
       "    .dataframe tbody tr th {\n",
       "        vertical-align: top;\n",
       "    }\n",
       "\n",
       "    .dataframe thead th {\n",
       "        text-align: right;\n",
       "    }\n",
       "</style>\n",
       "<table border=\"1\" class=\"dataframe\">\n",
       "  <thead>\n",
       "    <tr style=\"text-align: right;\">\n",
       "      <th></th>\n",
       "      <th>Total</th>\n",
       "      <th>Mon</th>\n",
       "      <th>Tue</th>\n",
       "      <th>Wed</th>\n",
       "      <th>Thu</th>\n",
       "      <th>Fri</th>\n",
       "      <th>Sat</th>\n",
       "      <th>Sun</th>\n",
       "      <th>holiday</th>\n",
       "    </tr>\n",
       "    <tr>\n",
       "      <th>DATE</th>\n",
       "      <th></th>\n",
       "      <th></th>\n",
       "      <th></th>\n",
       "      <th></th>\n",
       "      <th></th>\n",
       "      <th></th>\n",
       "      <th></th>\n",
       "      <th></th>\n",
       "      <th></th>\n",
       "    </tr>\n",
       "  </thead>\n",
       "  <tbody>\n",
       "    <tr>\n",
       "      <th>2012-01-01</th>\n",
       "      <td>-119371</td>\n",
       "      <td>0.0</td>\n",
       "      <td>0.0</td>\n",
       "      <td>0.0</td>\n",
       "      <td>0.0</td>\n",
       "      <td>0.0</td>\n",
       "      <td>0.0</td>\n",
       "      <td>1.0</td>\n",
       "      <td>0.0</td>\n",
       "    </tr>\n",
       "    <tr>\n",
       "      <th>2012-01-02</th>\n",
       "      <td>-99010</td>\n",
       "      <td>1.0</td>\n",
       "      <td>0.0</td>\n",
       "      <td>0.0</td>\n",
       "      <td>0.0</td>\n",
       "      <td>0.0</td>\n",
       "      <td>0.0</td>\n",
       "      <td>0.0</td>\n",
       "      <td>1.0</td>\n",
       "    </tr>\n",
       "    <tr>\n",
       "      <th>2012-01-03</th>\n",
       "      <td>-119296</td>\n",
       "      <td>0.0</td>\n",
       "      <td>1.0</td>\n",
       "      <td>0.0</td>\n",
       "      <td>0.0</td>\n",
       "      <td>0.0</td>\n",
       "      <td>0.0</td>\n",
       "      <td>0.0</td>\n",
       "      <td>0.0</td>\n",
       "    </tr>\n",
       "    <tr>\n",
       "      <th>2012-01-04</th>\n",
       "      <td>-98934</td>\n",
       "      <td>0.0</td>\n",
       "      <td>0.0</td>\n",
       "      <td>1.0</td>\n",
       "      <td>0.0</td>\n",
       "      <td>0.0</td>\n",
       "      <td>0.0</td>\n",
       "      <td>0.0</td>\n",
       "      <td>0.0</td>\n",
       "    </tr>\n",
       "    <tr>\n",
       "      <th>2012-01-05</th>\n",
       "      <td>-109104</td>\n",
       "      <td>0.0</td>\n",
       "      <td>0.0</td>\n",
       "      <td>0.0</td>\n",
       "      <td>1.0</td>\n",
       "      <td>0.0</td>\n",
       "      <td>0.0</td>\n",
       "      <td>0.0</td>\n",
       "      <td>0.0</td>\n",
       "    </tr>\n",
       "  </tbody>\n",
       "</table>\n",
       "</div>"
      ],
      "text/plain": [
       "             Total  Mon  Tue  Wed  Thu  Fri  Sat  Sun  holiday\n",
       "DATE                                                          \n",
       "2012-01-01 -119371  0.0  0.0  0.0  0.0  0.0  0.0  1.0      0.0\n",
       "2012-01-02  -99010  1.0  0.0  0.0  0.0  0.0  0.0  0.0      1.0\n",
       "2012-01-03 -119296  0.0  1.0  0.0  0.0  0.0  0.0  0.0      0.0\n",
       "2012-01-04  -98934  0.0  0.0  1.0  0.0  0.0  0.0  0.0      0.0\n",
       "2012-01-05 -109104  0.0  0.0  0.0  1.0  0.0  0.0  0.0      0.0"
      ]
     },
     "execution_count": 46,
     "metadata": {},
     "output_type": "execute_result"
    }
   ],
   "source": [
    "daily.head()"
   ]
  },
  {
   "cell_type": "markdown",
   "metadata": {},
   "source": [
    "#### Feature Engineering and Scaling\n",
    "\n",
    " - Add average temperature\n",
    " - Add Total Precipitation\n",
    " - Flag to identify dry days (where precipitation = 0)"
   ]
  },
  {
   "cell_type": "code",
   "execution_count": 47,
   "metadata": {},
   "outputs": [],
   "source": [
    "# Temperatures are expressed in 1/10th of degrees C, convert to C\n",
    "\n",
    "bike['TMIN'] /= 10\n",
    "bike['TMAX'] /= 10\n",
    "bike['Temp (C)'] = 0.5 * (bike['TMIN'] + bike['TMAX'])\n",
    "\n",
    "# precipitation is in 1/10th of mm; convert to inches\n",
    "bike['PRCP'] /= 254\n",
    "bike['dry day'] = (bike['PRCP'] == 0).astype(int)\n",
    "\n",
    "daily = daily.join(bike[['PRCP', 'Temp (C)', 'dry day']])\n"
   ]
  },
  {
   "cell_type": "markdown",
   "metadata": {},
   "source": [
    "#### Capture the deviations in daily values"
   ]
  },
  {
   "cell_type": "code",
   "execution_count": 68,
   "metadata": {},
   "outputs": [],
   "source": [
    "daily['annual'] = (daily.index - daily.index[0]).days / 365."
   ]
  },
  {
   "cell_type": "markdown",
   "metadata": {},
   "source": [
    "#### Hours of Daylight"
   ]
  },
  {
   "cell_type": "code",
   "execution_count": 67,
   "metadata": {},
   "outputs": [
    {
     "data": {
      "text/plain": [
       "(8, 17)"
      ]
     },
     "execution_count": 67,
     "metadata": {},
     "output_type": "execute_result"
    },
    {
     "data": {
      "image/png": "[encoded data removed]",
      "text/plain": [
       "<Figure size 432x288 with 1 Axes>"
      ]
     },
     "metadata": {
      "needs_background": "light"
     },
     "output_type": "display_data"
    }
   ],
   "source": [
    "import matplotlib.pyplot as plt\n",
    "\n",
    "def hours_of_daylight(date, axis=23.44, latitude=47.61):\n",
    "    \"\"\"Compute the hours of daylight for the given date\"\"\"\n",
    "    days = (date - pd.datetime(2000, 12, 21)).days\n",
    "    m = (1. - np.tan(np.radians(latitude))\n",
    "         * np.tan(np.radians(axis) * np.cos(days * 2 * np.pi / 365.25)))\n",
    "    return 24. * np.degrees(np.arccos(1 - np.clip(m, 0, 2))) / 180.\n",
    "\n",
    "daily['daylight_hrs'] = list(map(hours_of_daylight, daily.index))\n",
    "daily[['daylight_hrs']].plot()\n",
    "plt.ylim(8, 17)"
   ]
  },
  {
   "cell_type": "markdown",
   "metadata": {},
   "source": [
    "#### Handling the missing values"
   ]
  },
  {
   "cell_type": "code",
   "execution_count": 48,
   "metadata": {},
   "outputs": [],
   "source": [
    "# Drop all rows with NULL values\n",
    "daily.dropna(axis=0, how='any', inplace=True)"
   ]
  },
  {
   "cell_type": "code",
   "execution_count": 49,
   "metadata": {},
   "outputs": [
    {
     "data": {
      "text/plain": [
       "(1340, 12)"
      ]
     },
     "execution_count": 49,
     "metadata": {},
     "output_type": "execute_result"
    }
   ],
   "source": [
    "daily.shape"
   ]
  },
  {
   "cell_type": "markdown",
   "metadata": {},
   "source": [
    "#### Building Linear regression model"
   ]
  },
  {
   "cell_type": "code",
   "execution_count": 82,
   "metadata": {},
   "outputs": [],
   "source": [
    "### Predictors to be used in the model\n",
    "column_names = ['Mon', 'Tue', 'Wed', 'Thu', 'Fri', 'Sat', 'Sun', 'holiday',\n",
    "                'daylight_hrs', 'PRCP', 'dry day', 'Temp (C)', 'annual']\n",
    "\n",
    "## Defining the set of predictors\n",
    "X = daily[column_names]\n",
    "## Labels\n",
    "y = daily['Total']\n",
    "\n",
    "from sklearn.linear_model import LinearRegression\n",
    "\n",
    "## Define the model and fit\n",
    "model = LinearRegression(fit_intercept=False)\n",
    "model.fit(X, y)\n",
    "\n",
    "## predict using the fit model\n",
    "daily['predicted'] = model.predict(X)"
   ]
  },
  {
   "cell_type": "markdown",
   "metadata": {},
   "source": [
    "#### Get R-squared value"
   ]
  },
  {
   "cell_type": "code",
   "execution_count": 84,
   "metadata": {},
   "outputs": [
    {
     "name": "stdout",
     "output_type": "stream",
     "text": [
      "0.3865031331759331\n"
     ]
    }
   ],
   "source": [
    "print(model.score(X, y))"
   ]
  },
  {
   "cell_type": "markdown",
   "metadata": {},
   "source": [
    "#### Plot the actual and predicted values"
   ]
  },
  {
   "cell_type": "code",
   "execution_count": 85,
   "metadata": {},
   "outputs": [
    {
     "data": {
      "text/plain": [
       "<matplotlib.axes._subplots.AxesSubplot at 0x19921b45358>"
      ]
     },
     "execution_count": 85,
     "metadata": {},
     "output_type": "execute_result"
    },
    {
     "data": {
      "image/png": "[encoded data removed]",
      "text/plain": [
       "<Figure size 432x288 with 1 Axes>"
      ]
     },
     "metadata": {
      "needs_background": "light"
     },
     "output_type": "display_data"
    }
   ],
   "source": [
    "daily[['Total', 'predicted']].plot(alpha=0.5)"
   ]
  },
  {
   "cell_type": "markdown",
   "metadata": {},
   "source": [
    "#### Get co-efficients/weights for the model predictors"
   ]
  },
  {
   "cell_type": "code",
   "execution_count": 87,
   "metadata": {},
   "outputs": [
    {
     "data": {
      "text/plain": [
       "Mon            -102705.310902\n",
       "Tue            -103180.477941\n",
       "Wed            -102563.059452\n",
       "Thu            -101897.155223\n",
       "Fri            -102744.245636\n",
       "Sat            -102493.825830\n",
       "Sun            -102273.532756\n",
       "holiday           1201.764795\n",
       "daylight_hrs      -268.922844\n",
       "PRCP              3318.213270\n",
       "dry day          -9333.436183\n",
       "Temp (C)           -99.737649\n",
       "annual           -4388.501859\n",
       "dtype: float64"
      ]
     },
     "execution_count": 87,
     "metadata": {},
     "output_type": "execute_result"
    }
   ],
   "source": [
    "params = pd.Series(model.coef_, index=X.columns)\n",
    "params"
   ]
  },
  {
   "cell_type": "markdown",
   "metadata": {},
   "source": [
    "#### Get the standard errors for the estimates"
   ]
  },
  {
   "cell_type": "code",
   "execution_count": 88,
   "metadata": {},
   "outputs": [],
   "source": [
    "import numpy as np\n",
    "from sklearn.utils import resample\n",
    "\n",
    "np.random.seed(1)\n",
    "err = np.std([model.fit(*resample(X, y)).coef_\n",
    "              for i in range(1000)], 0)"
   ]
  },
  {
   "cell_type": "code",
   "execution_count": 89,
   "metadata": {},
   "outputs": [
    {
     "name": "stdout",
     "output_type": "stream",
     "text": [
      "                effect   error\n",
      "Mon          -102705.0  1664.0\n",
      "Tue          -103180.0  1662.0\n",
      "Wed          -102563.0  1635.0\n",
      "Thu          -101897.0  1675.0\n",
      "Fri          -102744.0  1634.0\n",
      "Sat          -102494.0  1653.0\n",
      "Sun          -102274.0  1638.0\n",
      "holiday         1202.0  1712.0\n",
      "daylight_hrs    -269.0   156.0\n",
      "PRCP            3318.0  1163.0\n",
      "dry day        -9333.0   722.0\n",
      "Temp (C)        -100.0    68.0\n",
      "annual         -4389.0   280.0\n"
     ]
    }
   ],
   "source": [
    "print(pd.DataFrame({'effect': params.round(0),\n",
    "                    'error': err.round(0)}))"
   ]
  },
  {
   "cell_type": "markdown",
   "metadata": {},
   "source": [
    "#### Get standardized model coefficients"
   ]
  },
  {
   "cell_type": "code",
   "execution_count": 81,
   "metadata": {},
   "outputs": [
    {
     "name": "stdout",
     "output_type": "stream",
     "text": [
      "                            OLS Regression Results                            \n",
      "==============================================================================\n",
      "Dep. Variable:                      y   R-squared:                       0.256\n",
      "Model:                            OLS   Adj. R-squared:                  0.251\n",
      "Method:                 Least Squares   F-statistic:                     45.85\n",
      "Date:                Sat, 25 Apr 2020   Prob (F-statistic):           1.05e-78\n",
      "Time:                        18:56:39   Log-Likelihood:                -1702.9\n",
      "No. Observations:                1340   AIC:                             3426.\n",
      "Df Residuals:                    1330   BIC:                             3478.\n",
      "Df Model:                          10                                         \n",
      "Covariance Type:            nonrobust                                         \n",
      "==============================================================================\n",
      "                 coef    std err          t      P>|t|      [0.025      0.975]\n",
      "------------------------------------------------------------------------------\n",
      "x1          3.929e+12   3.11e+12      1.263      0.207   -2.18e+12       1e+13\n",
      "x2          3.929e+12   3.11e+12      1.263      0.207   -2.18e+12       1e+13\n",
      "x3           3.92e+12    3.1e+12      1.263      0.207   -2.17e+12       1e+13\n",
      "x4           3.92e+12    3.1e+12      1.263      0.207   -2.17e+12       1e+13\n",
      "x5           3.92e+12    3.1e+12      1.263      0.207   -2.17e+12       1e+13\n",
      "x6           3.92e+12    3.1e+12      1.263      0.207   -2.17e+12       1e+13\n",
      "x7          3.929e+12   3.11e+12      1.263      0.207   -2.18e+12       1e+13\n",
      "x8             0.0128      0.024      0.524      0.601      -0.035       0.061\n",
      "x9             0.0547      0.028      1.946      0.052      -0.000       0.110\n",
      "x10           -0.3950      0.029    -13.501      0.000      -0.452      -0.338\n",
      "x11           -0.1712      0.025     -6.827      0.000      -0.220      -0.122\n",
      "==============================================================================\n",
      "Omnibus:                      268.937   Durbin-Watson:                   0.888\n",
      "Prob(Omnibus):                  0.000   Jarque-Bera (JB):              814.277\n",
      "Skew:                           1.003   Prob(JB):                    1.52e-177\n",
      "Kurtosis:                       6.250   Cond. No.                     4.56e+14\n",
      "==============================================================================\n",
      "\n",
      "Warnings:\n",
      "[1] Standard Errors assume that the covariance matrix of the errors is correctly specified.\n",
      "[2] The smallest eigenvalue is 1.11e-26. This might indicate that there are\n",
      "strong multicollinearity problems or that the design matrix is singular.\n"
     ]
    }
   ],
   "source": [
    "import statsmodels.api as sm\n",
    "from scipy.stats.mstats import zscore\n",
    "\n",
    "print(sm.OLS(zscore(y), zscore(X)).fit().summary())"
   ]
  },
  {
   "cell_type": "code",
   "execution_count": null,
   "metadata": {},
   "outputs": [],
   "source": []
  }
 ],
 "metadata": {
  "kernelspec": {
   "display_name": "Python 3",
   "language": "python",
   "name": "python3"
  },
  "language_info": {
   "codemirror_mode": {
    "name": "ipython",
    "version": 3
   },
   "file_extension": ".py",
   "mimetype": "text/x-python",
   "name": "python",
   "nbconvert_exporter": "python",
   "pygments_lexer": "ipython3",
   "version": "3.6.5"
  }
 },
 "nbformat": 4,
 "nbformat_minor": 4
}
