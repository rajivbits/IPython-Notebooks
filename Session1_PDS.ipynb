{
 "cells": [
  {
   "cell_type": "markdown",
   "metadata": {},
   "source": [
    "## Practical Data Science - Classroom to Careers"
   ]
  },
  {
   "cell_type": "markdown",
   "metadata": {},
   "source": [
    "### Session-1 \n",
    "\n",
    "The main objective of this session is to explain the pre-requisites before we deal with any kind of Data in general.\n",
    "\n",
    "#### What is data analysis?\n",
    "\n",
    "Data Analysis is a subset of Data Science which helps us to understand the underlying process that generates the data\n",
    "\n",
    "#### What are the different kinds of data?\n",
    "\n",
    "Data can be mainly categorized into 2 main types - \n",
    "\n",
    " - Structured Data \n",
    " - Unstructured data\n",
    "\n",
    "Examples of **Structured data** include - Tabular data, and mainly easily interpretable by a machine (numeric or can be converted to numeric)\n",
    "\n",
    "Examples of **Unstructured data** include - Audio, Image or text data etc. which cannot be directly understood by a machine. The way we can transform this data to be understood by machines will be covered in the later part of the course\n",
    "\n",
    "\n",
    "\n"
   ]
  },
  {
   "cell_type": "markdown",
   "metadata": {},
   "source": [
    "### Tools we will be using for the course"
   ]
  },
  {
   "cell_type": "markdown",
   "metadata": {},
   "source": [
    "**Python version 3.6 or higher with Anaconda4** distribution (includes Jupyter/IPython Notebook)\n",
    "\n",
    "To install Anaconda please visit the following link and choose the version compatible with your Windows OS. Right-click on My Computer/PC and select properties to get the version of your Windows Operating System  - \n",
    "\n",
    "https://repo.anaconda.com/archive/Anaconda3-2020.02-Windows-x86_64.exe (64 bit version)\n",
    "\n",
    "https://repo.anaconda.com/archive/Anaconda3-2020.02-Windows-x86.exe (32 bit version)"
   ]
  },
  {
   "cell_type": "markdown",
   "metadata": {},
   "source": [
    "### Course Contents\n",
    "\n",
    "**1. Basic Probability and Statistics**\n",
    "  \n",
    " - 1.1 Understanding and Representing Data\n",
    " - 1.2 What are probability distributions?\n",
    " - 1.3 Bayes Theorem\n",
    " \n",
    "\n",
    "**2. Probability and Data Distributions**\n",
    "    \n",
    " - 2.1 What are Random Variables?\n",
    " - 2.2 What is a Probability Density Function?\n",
    " - 2.3 Normal Distribution\n",
    " - 2.4 Binomial Distribution\n",
    " - 2.5 Poisson Distribution\n",
    " - 2.6 Exponential Distribution\n",
    " - 2.7 Geometric Distribution\n",
    "\n",
    "\n",
    "**3. Introduction to Linear Algebra and Calculus**\n",
    "\n",
    " - 3.1 Matrix Addition and Multiplication\n",
    " - 3.2 Finding the determinant of a matrix\n",
    " - 3.3 Eigenvalues and Eigenvectors\n",
    " - 3.4 Functions\n",
    " - 3.5 Differentiation of commonly used functions\n",
    "    \n",
    "    \n",
    "**4. Statistical Estimation Methods**\n",
    "\n",
    " - 4.1 Maximum Likelihood Estimates \n",
    " - 4.2 Information Gain\n",
    " - 4.3 Parametric Estimation\n",
    " - 4.4 Non-parametric estimation\n",
    " - 4.5 Supervised vs. Unsupervised Learning\n",
    "  \n",
    "  \n",
    "**5. Regression**\n",
    "\n",
    " - 5.1 Linear Regression\n",
    " - 5.2 Logistic regression\n",
    " - 5.3 Determining the goodness of fit\n",
    " - 5.4 Decision Trees\n",
    " - 5.5 Ridge Regression\n",
    " - 5.6 Lasso Regression\n",
    " - 5.7 Regularization\n",
    "    \n",
    "    \n",
    "**6. Unsupervised Learning**\n",
    "\n",
    " - 6.1 Hierarchical Clustering\n",
    " - 6.2 K-Means Clustering\n",
    " - 6.3 Association Rule mining\n",
    " - 6.4 Principal Component Analysis (PCA)\n",
    " - 6.5 Singular Value Decomposition (SVD)\n",
    " - 6.6 One-class SVM (Anomaly detection)\n",
    "    \n",
    "    \n",
    "**7. Supervised Learning in ML**\n",
    "\n",
    " - 7.1 Bagging/Random Forests\n",
    " - 7.2 Support Vector Machines (SVM)\n",
    " - 7.3 Boosting/ Gradient Boosting\n",
    " - 7.4 Multi-output classification\n",
    "\n",
    "\n",
    "**8. Introduction to Neural Networks and Cost function**\n",
    "\n",
    " - 8.1 Artificial Neural Networks\n",
    " - 8.2 Activation Fucntions\n",
    " - 8.3 Backpropagation\n",
    " - 8.4 Gradient Descent\n",
    " - 8.5 Cost function vs. Loss function\n",
    "\n",
    "\n",
    "**9. Text Classification**\n",
    "\n",
    " - 9.1 Bag-of-Words\n",
    " - 9.2 Named Entity Recognition (NER)\n",
    " - 9.3 Stemming and Lemmatization\n",
    " - 9.2 Feature Extraction from Text\n",
    " - 9.3 Pre-trained Word Embeddings\n",
    " - 9.4 Text Clustering\n",
    " - 9.5 Topic Modeling\n",
    "\n",
    "\n",
    "**10. Sequence Models**\n",
    "\n",
    " - 10.1 Introduction to Recurrent Neural Networks (RNNs)\n",
    " - 10.2 Long Short Term Memory Networks (LSTMs)\n",
    " - 10.3 Gated Recurrent Units\n",
    " - 10.4 Attention Layers   \n",
    " - 10.5 Multi-Output Classification\n",
    "    \n",
    "**11 and 12 - To be decided**    "
   ]
  },
  {
   "cell_type": "markdown",
   "metadata": {},
   "source": [
    "### Normal Distribution\n",
    "\n",
    "Also known as Gaussian Distribution, is the most popular Distribution one would hear in Statistics and ML world.\n",
    "\n",
    "This distribution has a Curve centered at mean and characterized byt the following -\n",
    "\n",
    "1) Mean \n",
    "\n",
    "2) Standard Deviation (sigma)\n",
    "\n",
    "The equation of Normal Distribution is -\n",
    "\n",
    "\\begin{align}\n",
    "P(X=x) = Y = \\frac{1}{\\sigma\\sqrt(2\\pi)} * e^{-(x-\\mu)^2/2\\sigma^2}\\\\\n",
    "\\end{align}\n",
    "\n",
    "Where x is a Random Variable and **mu** is the Mean and **sigma** is the Standard deviation\n",
    "\n",
    "Regression techniques have assumptions built around the data coming from a Normal Distribution"
   ]
  },
  {
   "cell_type": "code",
   "execution_count": 1,
   "metadata": {},
   "outputs": [
    {
     "data": {
      "text/plain": [
       "[Text(0, 0.5, 'Frequency'), Text(0.5, 0, 'Normal')]"
      ]
     },
     "execution_count": 1,
     "metadata": {},
     "output_type": "execute_result"
    },
    {
     "data": {
      "image/png": "[encoded data removed]",
      "text/plain": [
       "<Figure size 432x288 with 1 Axes>"
      ]
     },
     "metadata": {
      "needs_background": "light"
     },
     "output_type": "display_data"
    }
   ],
   "source": [
    "import numpy as np\n",
    "import scipy\n",
    "import seaborn as sns\n",
    "\n",
    "\n",
    "# generate random numbers from N(0,1)\n",
    "data_normal = np.random.normal(size=1000,loc=0,scale=100)\n",
    "\n",
    "# Plot the normal distribution\n",
    "ax = sns.distplot(data_normal,\n",
    "                  bins=100,\n",
    "                  kde=False,\n",
    "                  color='blue',\n",
    "                  hist_kws={\"linewidth\": 15,'alpha':1})\n",
    "ax.set(xlabel='Normal', ylabel='Frequency')"
   ]
  },
  {
   "cell_type": "markdown",
   "metadata": {},
   "source": [
    "#### Properties of normal distribution\n",
    "\n",
    " - The mean, mode and median are all equal.\n",
    " - The curve is symmetric at the center (i.e. around the mean, μ).\n",
    " - Exactly half of the values are to the left of center and exactly half the values are to the right.\n",
    " - The total area under the curve is 1."
   ]
  },
  {
   "cell_type": "markdown",
   "metadata": {},
   "source": [
    "#### Applications of Normal Distribution\n",
    "\n",
    "**Problem 1**\n",
    "\n",
    "An average light bulb manufactured by the Acme Corporation lasts 300 days with a standard deviation of 50 days. Assuming that bulb life is normally distributed, what is the probability that an Acme light bulb will last at most 365 days?\n",
    "\n",
    "\n",
    "**Problem 2**\n",
    "\n",
    "Suppose scores on an IQ test are normally distributed. If the test has a mean of 100 and a standard deviation of 10, what is the probability that a person who takes the test will score between 90 and 110?"
   ]
  },
  {
   "cell_type": "markdown",
   "metadata": {},
   "source": [
    "### Binomial Distribution\n",
    "\n",
    "A binomial distribution is characterized by the following -\n",
    "\n",
    " - There are **n** repeated trials (where n is a positive integer)\n",
    " - The trial can result in only 2 outcomes (bi = 2)\n",
    " - The probability of success for each trial **p** is same and does not change (0<=p<=1)\n",
    " - The outcome of the trials is independent. i.e., the out come of one trial does not influence the outcome of any other trial\n",
    " \n",
    " **Example - Flipping a fair coin**\n",
    " \n",
    " - The probability of success of head/tail is always 0.5\n",
    " - The probability of success remains same\n",
    " - The flipping is independent\n",
    " - The outcome is either a head or a tail (only 2 outcomes)\n",
    " \n",
    "**Binomial Distribution Equation**\n",
    "\n",
    "\\begin{equation*}\n",
    "P(E)   = {n \\choose k} p^k (1-p)^{ n-k}\n",
    "\\end{equation*}\n",
    " \n",
    "**k**: The number of successes that result from the binomial experiment.\n",
    "\n",
    "**n**: The number of trials in the binomial experiment.\n",
    "\n",
    "**p**: The probability of success on an individual trial.\n",
    "\n",
    "**q**: The probability of failure on an individual trial (1-p, since thre are only 2 outcomes)\n",
    " "
   ]
  },
  {
   "cell_type": "code",
   "execution_count": 2,
   "metadata": {},
   "outputs": [
    {
     "data": {
      "text/plain": [
       "[Text(0, 0.5, 'Frequency'), Text(0.5, 0, 'Binomial')]"
      ]
     },
     "execution_count": 2,
     "metadata": {},
     "output_type": "execute_result"
    },
    {
     "data": {
      "image/png": "[encoded data removed]",
      "text/plain": [
       "<Figure size 432x288 with 1 Axes>"
      ]
     },
     "metadata": {
      "needs_background": "light"
     },
     "output_type": "display_data"
    }
   ],
   "source": [
    "from scipy.stats import binom\n",
    "import warnings\n",
    "\n",
    "warnings.filterwarnings(action='ignore')\n",
    "\n",
    "binom.rvs(size=5,n=10,p=0.5)\n",
    "\n",
    "data_binom = binom.rvs(n=10,p=0.5,size=10000)\n",
    "\n",
    "ax = sns.distplot(data_binom,\n",
    "                  kde=False,\n",
    "                  color='blue',\n",
    "                  hist_kws={\"linewidth\": 15,'alpha':1})\n",
    "\n",
    "ax.set(xlabel='Binomial', ylabel='Frequency')"
   ]
  },
  {
   "cell_type": "code",
   "execution_count": null,
   "metadata": {},
   "outputs": [],
   "source": []
  }
 ],
 "metadata": {
  "kernelspec": {
   "display_name": "Python 3",
   "language": "python",
   "name": "python3"
  },
  "language_info": {
   "codemirror_mode": {
    "name": "ipython",
    "version": 3
   },
   "file_extension": ".py",
   "mimetype": "text/x-python",
   "name": "python",
   "nbconvert_exporter": "python",
   "pygments_lexer": "ipython3",
   "version": "3.6.5"
  }
 },
 "nbformat": 4,
 "nbformat_minor": 4
}
